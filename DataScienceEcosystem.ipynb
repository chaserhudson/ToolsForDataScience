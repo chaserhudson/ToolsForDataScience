{
 "cells": [
  {
   "cell_type": "markdown",
   "source": [
    "# Data Science Tools and Ecosystem"
   ],
   "metadata": {
    "collapsed": false
   },
   "id": "c80bd513cca1872c"
  },
  {
   "cell_type": "markdown",
   "source": [
    "# Data Science Tools and Ecosystem"
   ],
   "metadata": {
    "collapsed": false
   },
   "id": "34f49b78c248494c"
  },
  {
   "cell_type": "markdown",
   "source": [
    "In this notebook, Data Science Tools and Ecosystem are summarized."
   ],
   "metadata": {
    "collapsed": false
   },
   "id": "c1df9c2083c2fca6"
  },
  {
   "cell_type": "markdown",
   "source": [
    "**Objectives:**\n",
    "\n",
    "- Understanding the basics of Python and Jupyter Notebooks.\n",
    "- Learning how to convert minutes to hours.\n",
    "- List popular languages for Data Science.\n"
   ],
   "metadata": {
    "collapsed": false
   },
   "id": "ab3707c299522dd5"
  },
  {
   "cell_type": "markdown",
   "source": [
    "Some of the popular languages that Data Scientist use are:\n",
    "1. Python\n",
    "2. R\n",
    "3. Julia"
   ],
   "metadata": {
    "collapsed": false
   },
   "id": "fad6d692ab514417"
  },
  {
   "cell_type": "markdown",
   "source": [
    "Some of the commonly used libraries used by Data Scientists include:\n",
    "1. matplotlib\n",
    "2. pandas\n",
    "3. scikit\n"
   ],
   "metadata": {
    "collapsed": false
   },
   "id": "5a5bc38a107749ec"
  },
  {
   "cell_type": "markdown",
   "source": [
    "| Data Science Tools |\n",
    "|--------------------|\n",
    "| Python             |\n",
    "| R                  |\n",
    "| SQL                |\n",
    "| Tableau            |\n",
    "| Excel              |\n",
    "| Jupyter Notebook   |\n",
    "| SAS                |\n",
    "| Apache Spark       |\n",
    "| TensorFlow         |\n",
    "| Scikit-learn       |"
   ],
   "metadata": {
    "collapsed": false
   },
   "id": "bf16d9bd901f5998"
  },
  {
   "cell_type": "markdown",
   "source": [
    "### Below are a few example of evaluating arithmetic expressions in python"
   ],
   "metadata": {
    "collapsed": false
   },
   "id": "42ad5417a9d74520"
  },
  {
   "cell_type": "code",
   "execution_count": 1,
   "outputs": [
    {
     "data": {
      "text/plain": "17"
     },
     "execution_count": 1,
     "metadata": {},
     "output_type": "execute_result"
    }
   ],
   "source": [
    "# This a simple arithmetic expression to mutiply then add integers\n",
    "(3*4) +5 "
   ],
   "metadata": {
    "collapsed": false,
    "ExecuteTime": {
     "end_time": "2023-08-30T21:33:39.376391Z",
     "start_time": "2023-08-30T21:33:39.368362Z"
    }
   },
   "id": "6f3a88f447e4a55a"
  },
  {
   "cell_type": "code",
   "execution_count": 2,
   "outputs": [
    {
     "data": {
      "text/plain": "3.3333333333333335"
     },
     "execution_count": 2,
     "metadata": {},
     "output_type": "execute_result"
    }
   ],
   "source": [
    "#  This will convert 200 minutes to hours by diving by 60\n",
    "200 / 60"
   ],
   "metadata": {
    "collapsed": false,
    "ExecuteTime": {
     "end_time": "2023-08-30T21:34:19.258283Z",
     "start_time": "2023-08-30T21:34:19.250936Z"
    }
   },
   "id": "44ced8b99b6be331"
  },
  {
   "cell_type": "markdown",
   "source": [
    "## Author\n",
    "Chase Hudson"
   ],
   "metadata": {
    "collapsed": false
   },
   "id": "fc9ce9a1a3f7582a"
  },
  {
   "cell_type": "code",
   "execution_count": null,
   "outputs": [],
   "source": [],
   "metadata": {
    "collapsed": false
   },
   "id": "5220ae7b61dfe27"
  }
 ],
 "metadata": {
  "kernelspec": {
   "display_name": "Python 3",
   "language": "python",
   "name": "python3"
  },
  "language_info": {
   "codemirror_mode": {
    "name": "ipython",
    "version": 2
   },
   "file_extension": ".py",
   "mimetype": "text/x-python",
   "name": "python",
   "nbconvert_exporter": "python",
   "pygments_lexer": "ipython2",
   "version": "2.7.6"
  }
 },
 "nbformat": 4,
 "nbformat_minor": 5
}
